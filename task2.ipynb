{
 "cells": [
  {
   "cell_type": "code",
   "execution_count": null,
   "metadata": {},
   "outputs": [],
   "source": []
  },
  {
   "cell_type": "code",
   "execution_count": 1,
   "metadata": {},
   "outputs": [],
   "source": [
    "import collections\n",
    "import numpy as np\n",
    "import json\n",
    "import tensorflow.strings as tf_strings\n",
    "from keras.preprocessing.text import tokenizer_from_json\n",
    "\n",
    "from keras.preprocessing.text import Tokenizer\n",
    "from keras.utils import pad_sequences\n",
    "from keras.models import Model, Sequential, load_model\n",
    "from keras.layers import Input, Dense, LSTM, Dropout, Activation, TimeDistributed, TextVectorization\n",
    "from keras.optimizers import Adam\n",
    "from keras.losses import sparse_categorical_crossentropy"
   ]
  },
  {
   "cell_type": "markdown",
   "metadata": {},
   "source": [
    "## Verify Access to the GPU"
   ]
  },
  {
   "cell_type": "code",
   "execution_count": 2,
   "metadata": {},
   "outputs": [
    {
     "name": "stdout",
     "output_type": "stream",
     "text": [
      "[name: \"/device:CPU:0\"\n",
      "device_type: \"CPU\"\n",
      "memory_limit: 268435456\n",
      "locality {\n",
      "}\n",
      "incarnation: 362355904869434689\n",
      "xla_global_id: -1\n",
      ", name: \"/device:GPU:0\"\n",
      "device_type: \"GPU\"\n",
      "memory_limit: 2236245607\n",
      "locality {\n",
      "  bus_id: 1\n",
      "  links {\n",
      "  }\n",
      "}\n",
      "incarnation: 17655777420153255138\n",
      "physical_device_desc: \"device: 0, name: NVIDIA GeForce GTX 1650 Ti, pci bus id: 0000:01:00.0, compute capability: 7.5\"\n",
      "xla_global_id: 416903419\n",
      "]\n"
     ]
    }
   ],
   "source": [
    "from tensorflow.python.client import device_lib\n",
    "print(device_lib.list_local_devices())"
   ]
  },
  {
   "cell_type": "code",
   "execution_count": 3,
   "metadata": {},
   "outputs": [],
   "source": [
    "## loading the tokenizers\n",
    "\n",
    "model = load_model('english_to_french_lstm_model')\n",
    "\n",
    "#load Tokenizer\n",
    "with open('english_tokenizer.json') as f:\n",
    "    data = json.load(f)\n",
    "    english_tokenizer = tokenizer_from_json(data)\n",
    "    \n",
    "with open('french_tokenizer.json') as f:\n",
    "    data = json.load(f)\n",
    "    french_tokenizer = tokenizer_from_json(data)"
   ]
  },
  {
   "cell_type": "markdown",
   "metadata": {},
   "source": [
    "## Implementation of Beam Search Decoding"
   ]
  },
  {
   "cell_type": "code",
   "execution_count": 4,
   "metadata": {},
   "outputs": [],
   "source": [
    "with open('sequence_length.json') as f:\n",
    "    max_length = json.load(f)\n",
    "\n",
    "def pad(x, length=None):\n",
    "    return pad_sequences(x, maxlen=length, padding='post')\n",
    "\n",
    "def beam_search_decoder(predictions, beam_width=3, epsilon=1e-10):\n",
    "    sequences = [[[], 0.0]]  \n",
    "    # Walk over each step in the sequence\n",
    "    for row in predictions:\n",
    "        all_candidates = list()\n",
    "        # Expand each current candidate\n",
    "        for seq, score in sequences:\n",
    "            for j, prob in enumerate(row):\n",
    "                prob = max(prob, epsilon)  # Ensure prob is non-zero\n",
    "                candidate = [seq + [j], score - np.log(prob)]\n",
    "                all_candidates.append(candidate)\n",
    "        # Order all candidates by score (lowest score first)\n",
    "        ordered = sorted(all_candidates, key=lambda tup: tup[1])\n",
    "        # Select k best samples\n",
    "        sequences = ordered[:beam_width]\n",
    "    return sequences\n",
    "\n",
    "def translate_to_french(english_sentence, beam_width=3):\n",
    "    english_sentence = english_sentence.lower()\n",
    "    \n",
    "    # Remove punctuation\n",
    "    for punct in ['.', '?', '!', ',']:\n",
    "        english_sentence = english_sentence.replace(punct, '')\n",
    "\n",
    "    english_sentence = english_tokenizer.texts_to_sequences([english_sentence])\n",
    "    english_sentence = pad(english_sentence, max_length)\n",
    "    english_sentence = english_sentence.reshape((-1, max_length))   \n",
    "    predictions = model.predict(english_sentence)[0]\n",
    "    \n",
    "    beam_results = beam_search_decoder(predictions, beam_width)\n",
    "    \n",
    "    # selecting the best result from beam search outputs\n",
    "    best_sequence = beam_results[0][0]\n",
    "    \n",
    "    french_sentence = french_tokenizer.sequences_to_texts([best_sequence])[0]\n",
    "    \n",
    "    print(\"French translation: \", french_sentence)\n",
    "    \n",
    "    return french_sentence\n"
   ]
  },
  {
   "cell_type": "markdown",
   "metadata": {},
   "source": [
    "## English to French translation"
   ]
  },
  {
   "cell_type": "code",
   "execution_count": 5,
   "metadata": {},
   "outputs": [
    {
     "name": "stdout",
     "output_type": "stream",
     "text": [
      "The translated french sentence is:\n",
      "1/1 [==============================] - 6s 6s/step\n",
      "French translation:  quand est ce cette au\n"
     ]
    },
    {
     "data": {
      "text/plain": [
       "'quand est ce cette au'"
      ]
     },
     "execution_count": 5,
     "metadata": {},
     "output_type": "execute_result"
    }
   ],
   "source": [
    "english_sentence = input(\"Enter the english sentence: \")\n",
    "\n",
    "print(\"The translated french sentence is:\", end=\"\\n\")\n",
    "translate_to_french(english_sentence)"
   ]
  }
 ],
 "metadata": {
  "kernelspec": {
   "display_name": "nulclass",
   "language": "python",
   "name": "python3"
  },
  "language_info": {
   "codemirror_mode": {
    "name": "ipython",
    "version": 3
   },
   "file_extension": ".py",
   "mimetype": "text/x-python",
   "name": "python",
   "nbconvert_exporter": "python",
   "pygments_lexer": "ipython3",
   "version": "3.9.19"
  }
 },
 "nbformat": 4,
 "nbformat_minor": 2
}
